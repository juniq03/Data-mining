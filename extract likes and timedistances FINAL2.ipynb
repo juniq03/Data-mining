{
 "cells": [
  {
   "cell_type": "code",
   "execution_count": 92,
   "metadata": {},
   "outputs": [
    {
     "name": "stdout",
     "output_type": "stream",
     "text": [
      "your csv is ready.\n"
     ]
    }
   ],
   "source": [
    "# extract likes:\n",
    "import csv\n",
    "from bs4 import BeautifulSoup \n",
    "soup = BeautifulSoup(open(\"v2_ALL_COMMENTS.html\"), \"html.parser\")\n",
    "\n",
    "likes = (soup.findAll(attrs={\"class\" : \"_14va\"}))\n",
    "for i in range(0,len(likes)):\n",
    "    if(likes[i].string==None):\n",
    "        likes[i].string=\"0\"\n",
    "    if(likes[i].string.find(\"K\")!=-1):\n",
    "        likes[i].string = likes[i].string.replace(u'K',u\"\")\n",
    "        likes[i].string = likes[i].string.replace(\",\",\".\")\n",
    "        likes[i].string = str(int(float(str(likes[i].string))*1000))\n",
    "        \n",
    "distances = (soup.findAll(attrs={\"class\" : \"_4ghv _2b0a\"}))\n",
    "for i in range(0,len(distances)):\n",
    "    if(distances[i].string==None):\n",
    "        distances[i].string=\"0\"\n",
    "    if(distances[i].string.find(\"yrs\")!=-1):\n",
    "            distances[i].string = distances[i].string.replace('yrs',\"\")\n",
    "            distances[i].string = distances[i].string.replace(\",\",\".\")\n",
    "            distances[i].string = str(int(float(str(distances[i].string))*365))\n",
    "    if(distances[i].string.find(\"yr\")!=-1):\n",
    "            distances[i].string = distances[i].string.replace('yr',\"\")\n",
    "            distances[i].string = distances[i].string.replace(\",\",\".\")\n",
    "            distances[i].string = str(int(float(str(distances[i].string))*365))\n",
    "    if(distances[i].string.find(\"d\")!=-1):\n",
    "            distances[i].string = distances[i].string.replace('d',\"\")\n",
    "            distances[i].string = distances[i].string.replace(\",\",\".\")\n",
    "            distances[i].string = str(int(float(str(distances[i].string))*1))\n",
    "    if(distances[i].string.find(\"wks\")!=-1):\n",
    "            distances[i].string = distances[i].string.replace('wks',\"\")\n",
    "            distances[i].string = distances[i].string.replace(\",\",\".\")\n",
    "            distances[i].string = str(int(float(str(distances[i].string))*7))\n",
    "    if(distances[i].string.find(\"mos\")!=-1):\n",
    "            distances[i].string = distances[i].string.replace('mos',\"\")\n",
    "            distances[i].string = distances[i].string.replace(\",\",\".\")\n",
    "            distances[i].string = str(int(float(str(distances[i].string))*365.25/12))\n",
    "            \n",
    "comment = (soup.findAll(attrs={\"class\" : \"_2b06\"}))      \n",
    "# put here your skript in\n",
    "            \n",
    "\n",
    "lmin = min(len(likes),len(distances),len(comment))\n",
    "\n",
    "\n",
    "with open('scrape.csv', 'w') as f:\n",
    " \n",
    "    # DELIMITER\n",
    "    writer = csv.writer(f, delimiter =';')\n",
    "\n",
    "    # HEADER\n",
    "    writer.writerow(['timedistance','numbers_likes','paragraph'])\n",
    "\n",
    "    for i in range(0,lmin):\n",
    "        comments = ' '.join([item.text for item in comment[i].select(\"[data-sigil='comment-body']\")])\n",
    "        writer.writerow([(distances[i].string), likes[i].string, comments])\n",
    "        \n",
    "print(\"your csv is ready.\")"
   ]
  },
  {
   "cell_type": "code",
   "execution_count": 88,
   "metadata": {},
   "outputs": [
    {
     "data": {
      "text/plain": [
       "2221"
      ]
     },
     "execution_count": 88,
     "metadata": {},
     "output_type": "execute_result"
    }
   ],
   "source": [
    "min(len(likes),len(distances),len(comment))"
   ]
  },
  {
   "cell_type": "code",
   "execution_count": null,
   "metadata": {},
   "outputs": [],
   "source": []
  }
 ],
 "metadata": {
  "kernelspec": {
   "display_name": "Python 3",
   "language": "python",
   "name": "python3"
  },
  "language_info": {
   "codemirror_mode": {
    "name": "ipython",
    "version": 3
   },
   "file_extension": ".py",
   "mimetype": "text/x-python",
   "name": "python",
   "nbconvert_exporter": "python",
   "pygments_lexer": "ipython3",
   "version": "3.5.2"
  }
 },
 "nbformat": 4,
 "nbformat_minor": 2
}
