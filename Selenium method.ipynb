{
 "cells": [
  {
   "cell_type": "code",
   "execution_count": 22,
   "metadata": {
    "collapsed": true
   },
   "outputs": [],
   "source": [
    "#webdriver allows me to open up a browser\n",
    "from selenium import webdriver\n",
    "#By allows me to search for things using specific parameters\n",
    "from selenium.webdriver.common.by import By\n",
    "#WebDriverWait allows me to wait for a page to load\n",
    "from selenium.webdriver.support.ui import WebDriverWait\n",
    "#EC allows me to specify what I'm looking for on a specific web page\n",
    "from selenium.webdriver.support import expected_conditions as EC\n",
    "#for handeling timeout\n",
    "from selenium.common.exceptions import TimeoutException\n"
   ]
  },
  {
   "cell_type": "code",
   "execution_count": 23,
   "metadata": {
    "collapsed": true
   },
   "outputs": [],
   "source": [
    "# open incognito tab\n",
    "option = webdriver.ChromeOptions()\n",
    "option.add_argument(\"--incognito\")"
   ]
  },
  {
   "cell_type": "code",
   "execution_count": 30,
   "metadata": {
    "collapsed": true
   },
   "outputs": [],
   "source": [
    "# opening up a chrome browser, r = raw, for blacklashing characters\n",
    "browser = webdriver.Chrome(executable_path=r'C:\\Users\\JuniQ\\Documents\\Webmining\\chromedriver.exe', chrome_options=option)\n",
    "\n",
    "# go to website of interest\n",
    "browser.get(\"https://touch.facebook.com/zuck/posts/10102586760792431\")\n",
    "browser.maximize_window()\n",
    "#wait up to 10 seconds for page to load\n",
    "#timeout = 10\n",
    "#try:\n",
    "#    WebDriverWait(browser, timeout).until(EC.visibility_of_element_located((By.XPATH, \"//img[@class='scaledImageFitWidth img']\")))\n",
    "#except TimeoutException:\n",
    " #   print(\"Timed out waiting for page to load\")\n",
    " #   browser.quit()\n",
    "    \n",
    "# fb login\"\n",
    "browser.find_element_by_css_selector(\"\"\"#u_0_2\"\"\").click()\n",
    "user = browser.find_element_by_id(\"m_login_email\")\n",
    "user.send_keys('milan_quang29@yahoo.com')\n",
    "password = browser.find_element_by_css_selector(\"\"\"#m_login_password\"\"\")\n",
    "password.send_keys('******')\n",
    "browser.find_element_by_css_selector(\"\"\"#login_form > div._2pie > div:nth-child(1) > button\"\"\").click()\n",
    "\n",
    "# find comments; put selenium object into an array\n",
    "comments = browser.find_elements_by_xpath(\"\"\"//*[@id=\"917195611690756\"]/div/div[2]/div[1]/text()\"\"\")\n",
    "comment = []\n",
    "for x in comments:\n",
    "    comment.append(x.text)\n",
    "    print (x.text)\n",
    "    \n",
    " \n",
    "    \n",
    "# next page of comments\n",
    "# browser.find_element_by_css_selector('#see_next_10102586760792431 > a').click()"
   ]
  },
  {
   "cell_type": "code",
   "execution_count": null,
   "metadata": {
    "collapsed": true
   },
   "outputs": [],
   "source": []
  },
  {
   "cell_type": "code",
   "execution_count": null,
   "metadata": {
    "collapsed": true
   },
   "outputs": [],
   "source": []
  },
  {
   "cell_type": "code",
   "execution_count": null,
   "metadata": {
    "collapsed": true
   },
   "outputs": [],
   "source": []
  }
 ],
 "metadata": {
  "kernelspec": {
   "display_name": "Python 3",
   "language": "python",
   "name": "python3"
  },
  "language_info": {
   "codemirror_mode": {
    "name": "ipython",
    "version": 3
   },
   "file_extension": ".py",
   "mimetype": "text/x-python",
   "name": "python",
   "nbconvert_exporter": "python",
   "pygments_lexer": "ipython3",
   "version": "3.6.1"
  }
 },
 "nbformat": 4,
 "nbformat_minor": 2
}
