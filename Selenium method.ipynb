{
 "cells": [
  {
   "cell_type": "code",
   "execution_count": 1,
   "metadata": {
    "collapsed": true
   },
   "outputs": [],
   "source": [
    "#webdriver allows me to open up a browser\n",
    "from selenium import webdriver\n",
    "#By allows me to search for things using specific parameters\n",
    "from selenium.webdriver.common.by import By\n",
    "#WebDriverWait allows me to wait for a page to load\n",
    "from selenium.webdriver.support.ui import WebDriverWait\n",
    "#EC allows me to specify what I'm looking for on a specific web page\n",
    "from selenium.webdriver.support import expected_conditions as EC\n",
    "#for handeling timeout\n",
    "from selenium.common.exceptions import TimeoutException\n",
    "import time\n"
   ]
  },
  {
   "cell_type": "code",
   "execution_count": 2,
   "metadata": {
    "collapsed": true
   },
   "outputs": [],
   "source": [
    "# open incognito tab\n",
    "option = webdriver.ChromeOptions()\n",
    "option.add_argument(\"--incognito\")"
   ]
  },
  {
   "cell_type": "code",
   "execution_count": 5,
   "metadata": {},
   "outputs": [
    {
     "name": "stdout",
     "output_type": "stream",
     "text": [
      "comment:  As someone with autism, with a son with autism, as someone who is constantly watching good people put their own children at serious risk because of old, fraudulent fears of vaccines and autism... thank you for being sensible. Thank you for doing what's right and also for showing everyone else that it's the right thing to do as well. \n",
      "\n",
      "comment:  I have Aspergers, a sort of Autism. I've got all my shots, and… Další \n",
      "\n",
      "comment:  Here's something I don't find myself saying very often but awesome winter onesie bro - she is styling :) \n",
      "\n",
      "comment:  As a mom to a child with Autism, thank you for vaccinating. 😊 \n",
      "\n",
      "comment:  Kara, there were some false claims made that the MMR vaccine… Další \n",
      "\n",
      "comment:  Mark cares about his baby and knows vaccinations are for the good of his baby and they are very important.\n",
      "Mark decides to vaccine his baby.\n",
      "Mark is intelligent.\n",
      "Be like Mark. \n",
      "\n",
      "comment:  Thank you for taking care of your child and getting her properly vaccinated. WAY too many Google-miseducated celebs are willing to expose their child to preventable illnesses and death for their pseudo-scientific beliefs. \n",
      "\n",
      "comment:  Much more likely to die from the actual disease than from the vaccine \n",
      "\n",
      "comment:  Thank you for being a smart person and doing what's best for your child and the community. #saveallthebabies \n",
      "\n",
      "comment:  By vaccinating his daughter he is helping to protect the… Další \n",
      "\n",
      "comment:  do they make that onesie in adult male XL?\n",
      "\n",
      "asking for a friend \n",
      "\n",
      "comment:  Shots are never fun, but so important. Thank you for sharing this - it's important. (and agree the onesie is super cute!) \n",
      "\n",
      "comment:  My baby also cries when I put pants on him. I should consult… Další \n",
      "\n",
      "comment:  \"Life was so much better before vaccines, when people lived to be the ripe old age of 40 and died from smallpox.\"\n",
      "-Anti-Vaxxers \n",
      "\n",
      "comment:  It's kinda sad that we now live in a world in which we congratulate people for vaccinating their kids. Look at how far we have regressed due to science illiteracy. \n",
      "\n",
      "comment:  You guys are misunderstanding his comment. He was saying it's… Další \n",
      "\n",
      "comment:  My country might be Third World but we don't make it a option for parents not to let their kids get vaccinated. Children can't go to Day care or school without being fully immunized. \n",
      "\n",
      "comment:  Brilliant outfit! \n",
      "\n",
      "comment:  \"The Universal Declaration of Human Rights. Article 26: \"EVERYONE HAS THE RIGHT TO EDUCATION.\" THERE ARE NO PRE-CONDITIONS!!!!!! ESPECIALLY, MEDICAL PROCEDURES WITH KNOWN RISKS!!!!!!!!!!!!!! YOU THINK \"ANTI-VAXXERS\" LACK EDUCATION, HOW BANNING THEIR KIDS FROM SCHOOLS HELPS TO IMPROVE EDUCATION?? WHAT'S THE NEXT STEP? SEGRAGATION? POLICE-ENFORCED MEDICAL INTERVENTIONS WITHOUT CONSENT FOR CHILDREN AND ADULTS? I'm NOT AGAINST VACCINES. I'm AGAINST MASS HYSTERIA which is obvious on both sides. I'm AGAINST BANNING KIDS FROM SCHOOLS unless there are current outbreaks and significant evidence of under-vaccinated kids spreading the disease.I'm FOR INFORMED CONSENT FOR ANY MEDICAL PROCEDURE, no matter how small the risk is. Vaccine history has some ugly moments and science behind vaccines is complicated. It's not about Autism which everyone is so stuck on. There is still a bunch of unanswered questions. There is no need to demonize anyone -- both sides have VALID CONCERNS. Let's all keep our minds open. WE ALL HAVE A LOT TO LEARN!!! Banning kids from schools is VIOLATION OF BASIC HUMAN RIGHTS!!! <This post is edited in an effort to make my message heard. The original text is following> Just don't ever read vaccine inserts, especially the part about possible adverse reactions. Don't worry that doctors don't do any tests to check if your particular baby is allergic to any ingredient in the vaccine (as long as average numbers look OK). Don't worry that neither the doctor nor the vaccine manufacturer are liable for any adverse reaction. Don't ever look at vaccine recall history. Don't ever read about cases compensated by the Vaccine Court (they compensate a small percentage of applicants and many don't apply). Don't wonder how gov't-imposed mandatory vaccination impacts pharm-companies' motivation to produce safer vaccines, develop tests to detect possible allergic reactions or to do more safety research (on immediate and long-term effects). Don't try to compare the actual numbers of kids suffering adverse reactions to vaccines with numbers of kids who suffered in any way because of people who don't feel comfortable vaccinating knowing what they know or knowing personally someone who got injured (in the present in any given part of the world). Don't think that demonizing undervaxxinating parents and banning their kids from public and private schools (CA SB277) is more evil and dangerous than the the danger these kids really present. Don't worry that recent outbreaks in CA show that majority getting infected are the adults and ppl whose vaccines wore off or never produced immunity. Don't think what the next step will be. (Police force-vaccinating anyone without consent?) How far are you willing to go and what are you willing to support? At what cost?\n",
      "P.S. What do we think about gov't-enforced mandatory circumcision? :) How many believe it will help prevent diseases and make your kids' future adult lives safer? Why not ban un-circumsized boys from middle schools? Why only ban those that miss HepB shot? WHERE DO YOU DRAW THE LINE? http://www.un.org/en/universal-declaration-human-rights/ \n",
      "\n",
      "comment:  Don't cross the street. You might get hit by a bus. Don't get… Další \n",
      "\n",
      "comment:  هخطف بنتك لو قفلت أي حساب اعلاني تاني 3:)\n",
      "+ افتحلنا التوثيق في الشرق الأوسط 3:) عشان الناس مش عارفه تاكل عيش 3:)\n",
      "وأي طلبات جديده هحطهالك الكومنت قابل للتعديل 3:) \n",
      "\n",
      "comment:  How much were you paid to post this? I know there's no way you'd vaccinate for many reasons the truly informed parents already have stated.\n",
      "\n",
      "Do you not make enough from Facebook or is your back pocket change running low? \n",
      "\n",
      "comment:  Thermerisol, mercury, squaline, chicken embryos, and a list of other dangerous nuerotoxins are so good for babies. Any of you ever read the inserts on vaccines? The ingredients? I didnt think so. Zuckerberg has, and id bet the farm, that he has no intention of vaccinating and dumbing down his child. However, what he, bill gates, and other elites, wants for your children, and a whole generation. Is much, much different than what they want their own kids. It saddens me you people cant see how blatant this post is. \n",
      "\n",
      "comment:  Wow, hands on Dad! Good to see you're giving time to Max despite your very busy sched! \n",
      "\n",
      "comment:  Both zuckerberg and his wife took 12 month sabbaticals when the… Další \n",
      "\n",
      "comment:  Superheroes vaccinate! Well done Daddy and little one. 👍🏼 \n",
      "\n",
      "comment:  OMG you're vaccinating your baby? Isn't that a little responsible? I mean don't you want to help run the risk of bringing back preventable illnesses? \n",
      "\n",
      "comment:  Acetaminophen at the time of vaccination decreases the production of glutathione. Glutathione is needed for detoxification. When glutathione production is decreased, the body can't rid itself of vaccine ingredients such as; aluminum, human DNA, formaldehyde etc.\n",
      "Those of us who are called \"anti-vaxxers\" were once pro vaccine. We vaccinated our kids, they developed seizures, allergies, asthma, autism, some died. We learned the hard way. You don't have to. I think safe vaccines should be available. There are no independent, double blind, placebo tests done on vaccines. CDC scientist, William Thompson says there was a forty percent increase in autism following the MMR vaccine and they covered it up. So, eithera Senior Scientist for the CDC is making up stories or vaccines really are triggering autism. Either way, it brings their safety in to question. \n",
      "\n",
      "comment:  Oh please.. There is no way he is vaccinating his child.. It's all for show! \n",
      "\n",
      "comment:  That onesie just made my day. \n",
      "\n",
      "comment:  Bravo Mark and Priscilla! Thank you for setting a good example. \n",
      "\n",
      "comment:  I have been reading through these comments...Why bash the antivaxxers? Vaccines are a pharmaceutical. The baby has a new immune system and the blood brain barrier has not formed. I don't think it's controversial. It's pretty simple. A pharmaceutical carries risks. If you wanna vaccinate then great. But get the full story on what it does to your immune system to be \"tricked\" so early in life. Ask yourself if you have a strong family history of autoimmune disorders. Know that it gives an immune system extra jobs which may lead to less ability to fight off other ailments. Allergies and asthma are more prevalent. I can respect that people will have varying opinions. We all care about our kids. Growing up, my mom's best friend had a perfectly healthy daughter. She received MMR and had a grand mal seizure and suffered brain damage. Her dr diagnosed her with vaccine injury. She was left unable to talk or walk for the rest of her life. So that was MY first personal experience with vaccines. Bottom line...A pharmaceutical that carries at least a risk of harm to some, should never be mandated. Because, in the end, no one seems to care about the \"sacrifices\" made for the \"common good.\" \n",
      "\n",
      "comment:  Going by your logic I'm guessing you don't drive, or even cross… Další \n",
      "\n",
      "comment:  Mark I think you should do all of her vaccines at once so you're not inconvenienced to go back. Paul Offit \"man who makes millions off vaccines\" says it's completely safe for children to receive 100,000 vaccines at once. Let's see!! Please also share all of her sick doctor visits too. \n",
      "\n",
      "comment:  Not sure I know many pediatricians who would have boards w the words rump and titty across them- such a liar \n",
      "\n",
      "comment:  Does he really not know? So hard to imagine he hasn't read the studies for himself. \n",
      "\n",
      "comment:  Great to see! My son has problems with his immunity (antibodies of vaccines disappear plus he cannot be vaccinated with living cells); therefore he is protected when community around him has been vaccinated. Therefore I am happy to see that other parents take the responsibility and vaccinate their kids. All the best for your daughter, she looks so lovely! \n",
      "\n"
     ]
    },
    {
     "name": "stdout",
     "output_type": "stream",
     "text": [
      "comment:  The coat of many colors \n",
      "\n",
      "comment:  OMG, cuteness overload! I bet you're an extremely active father. Max is a very lucky little girl. Is she going to get a brother or sister to grow up with? May as well go on and have one or two more. But, it's not all that easy raising kids. \n",
      "\n"
     ]
    },
    {
     "ename": "NameError",
     "evalue": "name 'k' is not defined",
     "output_type": "error",
     "traceback": [
      "\u001b[1;31m---------------------------------------------------------------------------\u001b[0m",
      "\u001b[1;31mNameError\u001b[0m                                 Traceback (most recent call last)",
      "\u001b[1;32m<ipython-input-5-7f2c98810fe1>\u001b[0m in \u001b[0;36m<module>\u001b[1;34m()\u001b[0m\n\u001b[0;32m     33\u001b[0m \u001b[1;31m# save output to txt\u001b[0m\u001b[1;33m\u001b[0m\u001b[1;33m\u001b[0m\u001b[0m\n\u001b[0;32m     34\u001b[0m \u001b[0msavefile\u001b[0m \u001b[1;33m=\u001b[0m \u001b[0mopen\u001b[0m \u001b[1;33m(\u001b[0m\u001b[1;34m'exampleFile.txt'\u001b[0m\u001b[1;33m,\u001b[0m\u001b[1;34m'w'\u001b[0m\u001b[1;33m)\u001b[0m\u001b[1;33m\u001b[0m\u001b[0m\n\u001b[1;32m---> 35\u001b[1;33m \u001b[0msavefile\u001b[0m\u001b[1;33m.\u001b[0m\u001b[0mwrite\u001b[0m\u001b[1;33m(\u001b[0m\u001b[0mk\u001b[0m\u001b[1;33m)\u001b[0m\u001b[1;33m\u001b[0m\u001b[0m\n\u001b[0m\u001b[0;32m     36\u001b[0m \u001b[0msavefile\u001b[0m\u001b[1;33m.\u001b[0m\u001b[0mclose\u001b[0m\u001b[1;33m(\u001b[0m\u001b[1;33m)\u001b[0m\u001b[1;33m\u001b[0m\u001b[0m\n\u001b[0;32m     37\u001b[0m \u001b[1;33m\u001b[0m\u001b[0m\n",
      "\u001b[1;31mNameError\u001b[0m: name 'k' is not defined"
     ]
    }
   ],
   "source": [
    "# opening up a chrome browser, r = raw, for blacklashing characters\n",
    "browser = webdriver.Chrome(executable_path=r'C:\\Users\\JuniQ\\Documents\\Webmining\\chromedriver.exe', chrome_options=option)\n",
    "\n",
    "# go to website of interest\n",
    "browser.get(\"https://touch.facebook.com/zuck/posts/10102586760792431\")\n",
    "browser.maximize_window()\n",
    "#wait up to 10 seconds for page to load\n",
    "#timeout = 10\n",
    "#try:\n",
    "#    WebDriverWait(browser, timeout).until(EC.visibility_of_element_located((By.XPATH, \"//img[@class='scaledImageFitWidth img']\")))\n",
    "#except TimeoutException:\n",
    " #   print(\"Timed out waiting for page to load\")\n",
    " #   browser.quit()\n",
    "    \n",
    "# fb login\"\n",
    "browser.find_element_by_css_selector(\"\"\"#u_0_2\"\"\").click()\n",
    "user = browser.find_element_by_id(\"m_login_email\")\n",
    "user.send_keys('milan_quang29@yahoo.com')\n",
    "password = browser.find_element_by_css_selector(\"\"\"#m_login_password\"\"\")\n",
    "password.send_keys('intelinside')\n",
    "browser.find_element_by_css_selector(\"\"\"#login_form > div._2pie > div:nth-child(1) > button\"\"\").click()\n",
    "\n",
    "# sleep for 3 seconds\n",
    "time.sleep(5)\n",
    "# find comments; put selenium object into an array\n",
    "comments = browser.find_elements_by_class_name('_14ye')\n",
    "comment = []\n",
    "for x in comments:\n",
    "    comment.append(x)\n",
    "    \n",
    "    print ('comment: ',x.text,'\\n')\n",
    "    \n",
    "# save output to txt\n",
    "savefile = open ('exampleFile.txt','w')\n",
    "savefile.write(k)\n",
    "savefile.close()\n",
    "    \n",
    " \n",
    "    \n",
    "# next page of comments\n",
    "# browser.find_element_by_css_selector('#see_next_10102586760792431 > a').click()"
   ]
  },
  {
   "cell_type": "code",
   "execution_count": null,
   "metadata": {},
   "outputs": [],
   "source": [
    "# save output to txt\n",
    "\n",
    "    "
   ]
  },
  {
   "cell_type": "code",
   "execution_count": 11,
   "metadata": {},
   "outputs": [
    {
     "ename": "TypeError",
     "evalue": "index() takes at least 1 argument (0 given)",
     "output_type": "error",
     "traceback": [
      "\u001b[1;31m---------------------------------------------------------------------------\u001b[0m",
      "\u001b[1;31mTypeError\u001b[0m                                 Traceback (most recent call last)",
      "\u001b[1;32m<ipython-input-11-d28fe27ca7e4>\u001b[0m in \u001b[0;36m<module>\u001b[1;34m()\u001b[0m\n\u001b[1;32m----> 1\u001b[1;33m \u001b[0mprint\u001b[0m\u001b[1;33m(\u001b[0m\u001b[0mcomment\u001b[0m\u001b[1;33m.\u001b[0m\u001b[0mindex\u001b[0m\u001b[1;33m(\u001b[0m\u001b[1;33m)\u001b[0m\u001b[1;33m)\u001b[0m\u001b[1;33m\u001b[0m\u001b[0m\n\u001b[0m",
      "\u001b[1;31mTypeError\u001b[0m: index() takes at least 1 argument (0 given)"
     ]
    }
   ],
   "source": []
  },
  {
   "cell_type": "code",
   "execution_count": null,
   "metadata": {
    "collapsed": true
   },
   "outputs": [],
   "source": []
  }
 ],
 "metadata": {
  "kernelspec": {
   "display_name": "Python 3",
   "language": "python",
   "name": "python3"
  },
  "language_info": {
   "codemirror_mode": {
    "name": "ipython",
    "version": 3
   },
   "file_extension": ".py",
   "mimetype": "text/x-python",
   "name": "python",
   "nbconvert_exporter": "python",
   "pygments_lexer": "ipython3",
   "version": "3.6.1"
  }
 },
 "nbformat": 4,
 "nbformat_minor": 2
}
